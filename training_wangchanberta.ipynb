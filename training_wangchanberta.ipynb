{
 "cells": [
  {
   "cell_type": "markdown",
   "metadata": {},
   "source": [
    "# Import Library"
   ]
  },
  {
   "cell_type": "code",
   "execution_count": null,
   "metadata": {},
   "outputs": [],
   "source": [
    "# !pip install accelerate transformers datasets evaluate pythainlp emoji -q"
   ]
  },
  {
   "cell_type": "code",
   "execution_count": null,
   "metadata": {},
   "outputs": [],
   "source": [
    "import torch\n",
    "print(torch.__version__)\n",
    "import tqdm as notebook_tqdm\n",
    "from datasets import load_dataset, load_metric, Dataset, DatasetDict\n",
    "from transformers import TrainingArguments, Trainer, EarlyStoppingCallback, AutoTokenizer, AutoModel, AutoModelForSequenceClassification, pipeline\n",
    "import evaluate\n",
    "import pandas as pd\n",
    "pd.options.mode.chained_assignment = None  # default='warn'\n",
    "import numpy as np\n",
    "import matplotlib.pyplot as plt\n",
    "import matplotlib.cm as cm\n",
    "import re\n",
    "import emoji\n",
    "import itertools\n",
    "import pythainlp\n",
    "print(pythainlp.__version__)\n",
    "from pythainlp.tokenize import word_tokenize\n",
    "from pythainlp.corpus.common import thai_words, thai_stopwords\n",
    "stopwords = list(thai_stopwords())\n",
    "from sklearn.preprocessing import LabelEncoder\n",
    "from sklearn.model_selection import train_test_split\n",
    "from sklearn.metrics import accuracy_score, classification_report, confusion_matrix, f1_score\n",
    "\n",
    "import warnings\n",
    "warnings.filterwarnings(\"ignore\", category=FutureWarning)"
   ]
  },
  {
   "cell_type": "markdown",
   "metadata": {},
   "source": [
    "# Text Preprocessing"
   ]
  },
  {
   "cell_type": "code",
   "execution_count": null,
   "metadata": {},
   "outputs": [],
   "source": [
    "def read_data(file_name:str):\n",
    "    file_type = file_name.split(\"/\")[-1].split(\".\")[-1]\n",
    "    if file_type in ['xlsx', 'xls']:\n",
    "        return pd.read_excel(file_name)\n",
    "    elif file_type in ['csv']:\n",
    "        return pd.read_csv(file_name)\n",
    "    else:\n",
    "        raise ValueError(f\"The input data must be excel or csv file\")\n",
    "        # print(f\"The input data must be excel or csv file !!!\")\n",
    "        # sys.exit(1)\n",
    "\n",
    "def clean_text(text):\n",
    "    text = text.lower()\n",
    "    text = re.sub(r'\\s+', ' ', text).strip()\n",
    "    text = re.sub(r'\\d+', '', text)\n",
    "    emoji_pattern = re.compile(\"[\"\n",
    "        u\"\\U0001F600-\\U0001F64F\"  # emoticons\n",
    "        u\"\\U0001F300-\\U0001F5FF\"  # symbols & pictographs\n",
    "        u\"\\U0001F680-\\U0001F6FF\"  # transport & map symbols\n",
    "        u\"\\U0001F1E0-\\U0001F1FF\"  # flags (iOS)\n",
    "                           \"]+\", flags=re.UNICODE)\n",
    "    text = emoji_pattern.sub(r'', text) # no emoji\n",
    "    text = emoji.replace_emoji(text, \"\")\n",
    "    my_punctuation = '|!\"$-#@%^_*+,/&\\'()<=>?[\\\\]'\n",
    "    text = re.sub('['+ re.escape(my_punctuation) +']+', '', text)\n",
    "    text = re.sub(r'\\.{2,}', '', text)\n",
    "    text = re.sub(r'\\\\', '', text)\n",
    "    return text\n",
    "\n",
    "def new_word_tokenize(text):\n",
    "    lst_words = word_tokenize(text, keep_whitespace=False)\n",
    "    lst_words = [i for i in lst_words if i not in stopwords]\n",
    "    return lst_words\n",
    "\n",
    "def data_preprocessing(df, text_col, label_col):\n",
    "    # df = read_data('./data/new_data_group.xlsx')\n",
    "    data = df[[text_col, label_col]] # select text and class column\n",
    "    data['txt_type'] = data[text_col].apply(lambda x : isinstance(x, str)) # check str type\n",
    "    data = data[data['txt_type'] == True]\n",
    "    data = data.drop('txt_type', axis=1)\n",
    "    data['cln_text'] = data[text_col].apply(clean_text)\n",
    "    data['len_text'] = data['cln_text'].apply(len)\n",
    "    data = data[data['len_text'] > 0]\n",
    "    data = data.drop('len_text', axis=1)\n",
    "    data['cln_words'] = data['cln_text'].apply(str).apply(new_word_tokenize) # clean and tokenize\n",
    "    data['len_cln_words'] = data['cln_words'].apply(len)\n",
    "    data = data[data['len_cln_words'] > 0]\n",
    "    data = data.drop('len_cln_words', axis=1)\n",
    "    data['sent'] = data['cln_words'].apply(lambda x : \" \".join(x)) # join words\n",
    "    # data = data[['sent', label_col]]\n",
    "    data = data[['cln_text', label_col]]\n",
    "    data = data.rename({\"cln_text\": \"sent\"}, axis=1)\n",
    "    print(\"Data size :\", data.shape)\n",
    "    return data"
   ]
  },
  {
   "cell_type": "markdown",
   "metadata": {},
   "source": [
    "# Read data"
   ]
  },
  {
   "cell_type": "code",
   "execution_count": null,
   "metadata": {},
   "outputs": [],
   "source": [
    "df = pd.read_excel('data/Re_label_row_data_5182.xlsx')\n",
    "df = df[['message','label']]\n",
    "df.head(2)"
   ]
  },
  {
   "cell_type": "markdown",
   "metadata": {},
   "source": [
    "# Data Preprocessing"
   ]
  },
  {
   "cell_type": "code",
   "execution_count": null,
   "metadata": {},
   "outputs": [],
   "source": [
    "# label encoding\n",
    "enc = LabelEncoder()\n",
    "enc.fit(df.label)\n",
    "idx2label = {k: v for k, v in enumerate(enc.classes_)}\n",
    "label2idx = {v: k for k, v in idx2label.items()}\n",
    "print(idx2label)\n",
    "print(label2idx)"
   ]
  },
  {
   "cell_type": "code",
   "execution_count": null,
   "metadata": {},
   "outputs": [],
   "source": [
    "df['label'] = enc.transform(df['label'])\n",
    "df.head(2)"
   ]
  },
  {
   "cell_type": "code",
   "execution_count": null,
   "metadata": {},
   "outputs": [],
   "source": [
    "# text preprocessing\n",
    "pp_df = data_preprocessing(df, 'message', 'label')\n",
    "pp_df.head()"
   ]
  },
  {
   "cell_type": "code",
   "execution_count": null,
   "metadata": {},
   "outputs": [],
   "source": [
    "# split to train valid test set\n",
    "train_data, test_data = train_test_split(pp_df, test_size=0.8, random_state=31, stratify=pp_df['label'])\n",
    "# test_data, valid_data = train_test_split(test_data, test_size=0.5, random_state=31, stratify=test_data['label'])\n",
    "print(train_data.shape, test_data.shape)"
   ]
  },
  {
   "cell_type": "code",
   "execution_count": null,
   "metadata": {},
   "outputs": [],
   "source": [
    "# convert to huggingface dataset\n",
    "hg_train_data = Dataset.from_pandas(train_data)\n",
    "# hg_valid_data = Dataset.from_pandas(valid_data)\n",
    "hg_test_data = Dataset.from_pandas(test_data)"
   ]
  },
  {
   "cell_type": "markdown",
   "metadata": {},
   "source": [
    "# Load Pre-Trained Model"
   ]
  },
  {
   "cell_type": "code",
   "execution_count": null,
   "metadata": {},
   "outputs": [],
   "source": [
    "tokenizer = AutoTokenizer.from_pretrained(\"poom-sci/WangchanBERTa-finetuned-sentiment\", model_max_length=128) # set max length\n",
    "model = AutoModelForSequenceClassification.from_pretrained(\"airesearch/wangchanberta-base-att-spm-uncased\", num_labels=10) # set num class"
   ]
  },
  {
   "cell_type": "code",
   "execution_count": null,
   "metadata": {},
   "outputs": [],
   "source": [
    "# # set label name\n",
    "model.config.id2label = idx2label\n",
    "model.config.label2id = label2idx\n",
    "# model.config"
   ]
  },
  {
   "cell_type": "code",
   "execution_count": null,
   "metadata": {},
   "outputs": [],
   "source": [
    "# Funtion to tokenize data\n",
    "def tokenize_dataset(data):\n",
    "    return tokenizer (data[\"sent\"],\n",
    "            max_length=128, # set max length\n",
    "            truncation=True,\n",
    "            padding=\"max_length\" )"
   ]
  },
  {
   "cell_type": "code",
   "execution_count": null,
   "metadata": {},
   "outputs": [],
   "source": [
    "# Tokenize the dataset\n",
    "dataset_train = hg_train_data.map(tokenize_dataset)\n",
    "dataset_test = hg_test_data.map(tokenize_dataset)\n",
    "# dataset_valid = hg_valid_data.map(tokenize_dataset)"
   ]
  },
  {
   "cell_type": "markdown",
   "metadata": {},
   "source": [
    "# Training"
   ]
  },
  {
   "cell_type": "code",
   "execution_count": null,
   "metadata": {},
   "outputs": [],
   "source": [
    "# set embedding (if change)\n",
    "model.resize_token_embeddings(len(tokenizer))"
   ]
  },
  {
   "cell_type": "code",
   "execution_count": null,
   "metadata": {},
   "outputs": [],
   "source": [
    "# Set up training arguments\n",
    "NUM_STEP = 500 # 1000\n",
    "BATCH_SIZE = 8\n",
    "EPOCH = 50 # 20\n",
    "\n",
    "training_args = TrainingArguments(\n",
    "    output_dir=\"./checkpoint\",\n",
    "    save_total_limit=3,\n",
    "    # overwrite_output_dir=True, \n",
    "    logging_dir='./logs',\n",
    "    logging_strategy='epoch',\n",
    "    logging_steps=NUM_STEP,\n",
    "    num_train_epochs=EPOCH,\n",
    "    fp16=True,\n",
    "    per_device_train_batch_size=BATCH_SIZE,\n",
    "    per_device_eval_batch_size=BATCH_SIZE,\n",
    "    learning_rate=3e-5, # 5e-5\n",
    "    # weight_decay=0.01, # use if larg model size\n",
    "    save_strategy= 'epoch',\n",
    "    save_steps=NUM_STEP,\n",
    "    evaluation_strategy='epoch',\n",
    "    eval_steps=NUM_STEP,\n",
    "    load_best_model_at_end=True\n",
    "    )"
   ]
  },
  {
   "cell_type": "code",
   "execution_count": null,
   "metadata": {},
   "outputs": [],
   "source": [
    "# define compute metrics\n",
    "def compute_metrics(eval_pred):\n",
    "    metric = load_metric(\"accuracy\")\n",
    "    logits, labels = eval_pred\n",
    "    predictions = logits.argmax(axis=-1)\n",
    "    return metric.compute(predictions=predictions, references=labels)"
   ]
  },
  {
   "cell_type": "code",
   "execution_count": null,
   "metadata": {},
   "outputs": [],
   "source": [
    "# setup trainer\n",
    "trainer = Trainer(\n",
    "    model=model,\n",
    "    args=training_args,\n",
    "    train_dataset=dataset_train,\n",
    "    eval_dataset=dataset_test,\n",
    "    compute_metrics=compute_metrics,\n",
    "    # callbacks=[EarlyStoppingCallback(early_stopping_patience=5)])\n",
    "    )"
   ]
  },
  {
   "cell_type": "code",
   "execution_count": null,
   "metadata": {},
   "outputs": [],
   "source": [
    "# train model ...\n",
    "trainer.train()"
   ]
  },
  {
   "cell_type": "code",
   "execution_count": null,
   "metadata": {},
   "outputs": [],
   "source": [
    "# Evaluation\n",
    "trainer.evaluate(dataset_test)"
   ]
  },
  {
   "cell_type": "markdown",
   "metadata": {},
   "source": [
    "# Save Model"
   ]
  },
  {
   "cell_type": "code",
   "execution_count": null,
   "metadata": {},
   "outputs": [],
   "source": [
    "# Save model\n",
    "tokenizer.save_pretrained('./model')\n",
    "trainer.save_model('./model')\n",
    "print(\"Save completed...\")"
   ]
  },
  {
   "cell_type": "markdown",
   "metadata": {},
   "source": [
    "# Load Model"
   ]
  },
  {
   "cell_type": "code",
   "execution_count": null,
   "metadata": {},
   "outputs": [],
   "source": [
    "# # Load model\n",
    "# # tokenizer = AutoTokenizer.from_pretrained('pretrained_WangchanBERTa/model')\n",
    "# # loaded_model = AutoModelForSequenceClassification.from_pretrained('pretrained_WangchanBERTa/model')\n",
    "# pipe = pipeline(\"text-classification\", model=\"pretrained_WangchanBERTa/model\")"
   ]
  },
  {
   "cell_type": "code",
   "execution_count": null,
   "metadata": {},
   "outputs": [],
   "source": []
  },
  {
   "cell_type": "markdown",
   "metadata": {},
   "source": [
    "# Evaluation"
   ]
  },
  {
   "cell_type": "code",
   "execution_count": null,
   "metadata": {},
   "outputs": [],
   "source": [
    "y_test_predict = trainer.predict(dataset_test)\n",
    "y_test_logits = y_test_predict.predictions\n",
    "y_test_prob = torch.softmax(torch.tensor(y_test_logits), dim=1) # tf.nn.softmax(y_test_logits)\n",
    "y_test_pred_labels = np.argmax(y_test_prob, axis=1)\n",
    "y_test_actual_labels = y_test_predict.label_ids"
   ]
  },
  {
   "cell_type": "code",
   "execution_count": null,
   "metadata": {},
   "outputs": [],
   "source": [
    "# Compute f1 metric\n",
    "metric_f1 = evaluate.load(\"f1\")\n",
    "metric_f1.compute(predictions=y_test_pred_labels, references=y_test_actual_labels, average=\"weighted\")"
   ]
  },
  {
   "cell_type": "code",
   "execution_count": null,
   "metadata": {},
   "outputs": [],
   "source": [
    "acc = accuracy_score(y_test_actual_labels, y_test_pred_labels)\n",
    "print(f\"Accuracy : {acc:.4f}\")"
   ]
  },
  {
   "cell_type": "markdown",
   "metadata": {},
   "source": [
    "# etc"
   ]
  },
  {
   "cell_type": "code",
   "execution_count": null,
   "metadata": {},
   "outputs": [],
   "source": [
    "device = torch.device(\"cuda\" if torch.cuda.is_available() else \"cpu\")"
   ]
  },
  {
   "cell_type": "code",
   "execution_count": null,
   "metadata": {},
   "outputs": [],
   "source": [
    "def to_prediction(prep_text):\n",
    "    inputs = tokenizer(prep_text, padding=True, truncation=True, return_tensors=\"pt\").to(device)\n",
    "    ## Perform inference\n",
    "    with torch.no_grad():\n",
    "        outputs = model(**inputs)\n",
    "    ## Move outputs to CPU if necessary and calculate softmax probabilities\n",
    "    softmax_probs = torch.softmax(outputs.logits, dim=1).cpu().tolist()\n",
    "    ## Extract predicted labels\n",
    "    predicted_labels = torch.argmax(outputs.logits, dim=1).tolist()\n",
    "    # predicted_labels = outputs.logits.argmax(dim=1).cpu().tolist()\n",
    "    results = [(idx2label[label], probs[label]) for label, probs in zip(predicted_labels, softmax_probs)]\n",
    "    return results"
   ]
  }
 ],
 "metadata": {
  "kernelspec": {
   "display_name": "merudy-ai",
   "language": "python",
   "name": "python3"
  },
  "language_info": {
   "name": "python",
   "version": "3.8.13"
  }
 },
 "nbformat": 4,
 "nbformat_minor": 2
}
