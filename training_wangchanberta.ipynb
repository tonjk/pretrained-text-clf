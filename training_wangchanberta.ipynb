{
 "cells": [
  {
   "cell_type": "markdown",
   "metadata": {},
   "source": [
    "# Import Library"
   ]
  },
  {
   "cell_type": "code",
   "execution_count": 24,
   "metadata": {},
   "outputs": [
    {
     "name": "stderr",
     "output_type": "stream",
     "text": [
      "huggingface/tokenizers: The current process just got forked, after parallelism has already been used. Disabling parallelism to avoid deadlocks...\n",
      "To disable this warning, you can either:\n",
      "\t- Avoid using `tokenizers` before the fork if possible\n",
      "\t- Explicitly set the environment variable TOKENIZERS_PARALLELISM=(true | false)\n"
     ]
    },
    {
     "name": "stdout",
     "output_type": "stream",
     "text": [
      "\u001b[33mWARNING: Running pip as the 'root' user can result in broken permissions and conflicting behaviour with the system package manager. It is recommended to use a virtual environment instead: https://pip.pypa.io/warnings/venv\u001b[0m\u001b[33m\n",
      "\u001b[0m"
     ]
    }
   ],
   "source": [
    "# !pip install accelerate -q"
   ]
  },
  {
   "cell_type": "code",
   "execution_count": 12,
   "metadata": {},
   "outputs": [
    {
     "name": "stdout",
     "output_type": "stream",
     "text": [
      "2.3.0\n",
      "5.0.3\n"
     ]
    }
   ],
   "source": [
    "import tqdm as notebook_tqdm\n",
    "import torch\n",
    "print(torch.__version__)\n",
    "from datasets import load_dataset, load_metric, Dataset, DatasetDict\n",
    "from transformers import TrainingArguments, Trainer, EarlyStoppingCallback, AutoTokenizer, AutoModel, AutoModelForSequenceClassification, pipeline\n",
    "import evaluate\n",
    "import pandas as pd\n",
    "pd.options.mode.chained_assignment = None  # default='warn'\n",
    "import numpy as np\n",
    "import matplotlib.pyplot as plt\n",
    "import matplotlib.cm as cm\n",
    "import re\n",
    "import emoji\n",
    "import itertools\n",
    "import pythainlp\n",
    "print(pythainlp.__version__)\n",
    "from pythainlp.tokenize import word_tokenize\n",
    "from pythainlp.corpus.common import thai_words, thai_stopwords\n",
    "stopwords = list(thai_stopwords())"
   ]
  },
  {
   "cell_type": "code",
   "execution_count": 2,
   "metadata": {},
   "outputs": [],
   "source": [
    "from sklearn.preprocessing import LabelEncoder\n",
    "from sklearn.model_selection import train_test_split\n",
    "from sklearn.metrics import accuracy_score, classification_report, confusion_matrix, f1_score\n",
    "\n",
    "import warnings\n",
    "warnings.filterwarnings(\"ignore\", category=FutureWarning)"
   ]
  },
  {
   "cell_type": "markdown",
   "metadata": {},
   "source": [
    "# Text Preprocessing"
   ]
  },
  {
   "cell_type": "code",
   "execution_count": 3,
   "metadata": {},
   "outputs": [],
   "source": [
    "def read_data(file_name:str):\n",
    "    file_type = file_name.split(\"/\")[-1].split(\".\")[-1]\n",
    "    if file_type in ['xlsx', 'xls']:\n",
    "        return pd.read_excel(file_name)\n",
    "    elif file_type in ['csv']:\n",
    "        return pd.read_csv(file_name)\n",
    "    else:\n",
    "        raise ValueError(f\"The input data must be excel or csv file\")\n",
    "        # print(f\"The input data must be excel or csv file !!!\")\n",
    "        # sys.exit(1)\n",
    "\n",
    "def clean_text(text):\n",
    "    text = text.lower()\n",
    "    text = re.sub(r'\\s+', ' ', text).strip()\n",
    "    text = re.sub(r'\\d+', '', text)\n",
    "    emoji_pattern = re.compile(\"[\"\n",
    "        u\"\\U0001F600-\\U0001F64F\"  # emoticons\n",
    "        u\"\\U0001F300-\\U0001F5FF\"  # symbols & pictographs\n",
    "        u\"\\U0001F680-\\U0001F6FF\"  # transport & map symbols\n",
    "        u\"\\U0001F1E0-\\U0001F1FF\"  # flags (iOS)\n",
    "                           \"]+\", flags=re.UNICODE)\n",
    "    text = emoji_pattern.sub(r'', text) # no emoji\n",
    "    text = emoji.replace_emoji(text, \"\")\n",
    "    my_punctuation = '|!\"$-#@%^_*+,/&\\'()<=>?[\\\\]'\n",
    "    text = re.sub('['+ re.escape(my_punctuation) +']+', '', text)\n",
    "    text = re.sub(r'\\.{2,}', '', text)\n",
    "    text = re.sub(r'\\\\', '', text)\n",
    "    return text\n",
    "\n",
    "def new_word_tokenize(text):\n",
    "    lst_words = word_tokenize(text, keep_whitespace=False)\n",
    "    lst_words = [i for i in lst_words if i not in stopwords]\n",
    "    return lst_words\n",
    "\n",
    "def data_preprocessing(df, text_col, label_col):\n",
    "    # df = read_data('./data/new_data_group.xlsx')\n",
    "    data = df[[text_col, label_col]] # select text and class column\n",
    "    data['txt_type'] = data[text_col].apply(lambda x : isinstance(x, str)) # check str type\n",
    "    data = data[data['txt_type'] == True]\n",
    "    data = data.drop('txt_type', axis=1)\n",
    "    data['cln_text'] = data[text_col].apply(clean_text)\n",
    "    data['len_text'] = data['cln_text'].apply(len)\n",
    "    data = data[data['len_text'] > 0]\n",
    "    data = data.drop('len_text', axis=1)\n",
    "    data['cln_words'] = data['cln_text'].apply(str).apply(new_word_tokenize) # clean and tokenize\n",
    "    data['len_cln_words'] = data['cln_words'].apply(len)\n",
    "    data = data[data['len_cln_words'] > 0]\n",
    "    data = data.drop('len_cln_words', axis=1)\n",
    "    data['sent'] = data['cln_words'].apply(lambda x : \" \".join(x)) # join words\n",
    "    data['sent_cln'] = data['sent'].apply(lambda x : \"\".join(new_word_tokenize(x)))\n",
    "    # data = data[['sent', label_col]]\n",
    "    data = data[['sent_cln', label_col]]\n",
    "    data = data.rename({\"sent_cln\": \"sent\"}, axis=1)\n",
    "    print(\"Data size :\", data.shape)\n",
    "    return data"
   ]
  },
  {
   "cell_type": "markdown",
   "metadata": {},
   "source": [
    "# Read data"
   ]
  },
  {
   "cell_type": "code",
   "execution_count": 31,
   "metadata": {},
   "outputs": [
    {
     "data": {
      "text/html": [
       "<div>\n",
       "<style scoped>\n",
       "    .dataframe tbody tr th:only-of-type {\n",
       "        vertical-align: middle;\n",
       "    }\n",
       "\n",
       "    .dataframe tbody tr th {\n",
       "        vertical-align: top;\n",
       "    }\n",
       "\n",
       "    .dataframe thead th {\n",
       "        text-align: right;\n",
       "    }\n",
       "</style>\n",
       "<table border=\"1\" class=\"dataframe\">\n",
       "  <thead>\n",
       "    <tr style=\"text-align: right;\">\n",
       "      <th></th>\n",
       "      <th>message</th>\n",
       "      <th>label</th>\n",
       "    </tr>\n",
       "  </thead>\n",
       "  <tbody>\n",
       "    <tr>\n",
       "      <th>0</th>\n",
       "      <td>เช็คเบี้ยค่ะ</td>\n",
       "      <td>ใบเสนอราคา</td>\n",
       "    </tr>\n",
       "    <tr>\n",
       "      <th>1</th>\n",
       "      <td>เชคเบี้ยค่ะ</td>\n",
       "      <td>ใบเสนอราคา</td>\n",
       "    </tr>\n",
       "    <tr>\n",
       "      <th>2</th>\n",
       "      <td>เช็คเบี้ยคะ</td>\n",
       "      <td>ใบเสนอราคา</td>\n",
       "    </tr>\n",
       "    <tr>\n",
       "      <th>3</th>\n",
       "      <td>เช็คเบี้ย ป.1 ค่ะ</td>\n",
       "      <td>ใบเสนอราคา</td>\n",
       "    </tr>\n",
       "    <tr>\n",
       "      <th>4</th>\n",
       "      <td>เช็คเบี้ยต่ออายุค่ะ</td>\n",
       "      <td>ใบเสนอราคา</td>\n",
       "    </tr>\n",
       "  </tbody>\n",
       "</table>\n",
       "</div>"
      ],
      "text/plain": [
       "               message       label\n",
       "0         เช็คเบี้ยค่ะ  ใบเสนอราคา\n",
       "1          เชคเบี้ยค่ะ  ใบเสนอราคา\n",
       "2          เช็คเบี้ยคะ  ใบเสนอราคา\n",
       "3    เช็คเบี้ย ป.1 ค่ะ  ใบเสนอราคา\n",
       "4  เช็คเบี้ยต่ออายุค่ะ  ใบเสนอราคา"
      ]
     },
     "execution_count": 31,
     "metadata": {},
     "output_type": "execute_result"
    }
   ],
   "source": [
    "df = pd.read_excel('data/Re_label_row_data_5182.xlsx')\n",
    "df = df[['message','label']]\n",
    "df.head()"
   ]
  },
  {
   "cell_type": "markdown",
   "metadata": {},
   "source": [
    "# Data Preprocessing"
   ]
  },
  {
   "cell_type": "code",
   "execution_count": 32,
   "metadata": {},
   "outputs": [
    {
     "name": "stdout",
     "output_type": "stream",
     "text": [
      "{0: 'การชำระเงิน', 1: 'การอบรม', 2: 'ข้อความที่ไม่สามารถจัดหมวดหมู่ได้', 3: 'ข้อมูลประกัน', 4: 'คอมมิชชั่น', 5: 'งานกรมธรรม์', 6: 'งานประกันและการเคลม', 7: 'สมาชิกและนายหน้า', 8: 'อื่นๆ', 9: 'ใบเสนอราคา'}\n",
      "{'การชำระเงิน': 0, 'การอบรม': 1, 'ข้อความที่ไม่สามารถจัดหมวดหมู่ได้': 2, 'ข้อมูลประกัน': 3, 'คอมมิชชั่น': 4, 'งานกรมธรรม์': 5, 'งานประกันและการเคลม': 6, 'สมาชิกและนายหน้า': 7, 'อื่นๆ': 8, 'ใบเสนอราคา': 9}\n"
     ]
    }
   ],
   "source": [
    "# label encoding\n",
    "enc = LabelEncoder()\n",
    "enc.fit(df.label)\n",
    "idx2label = {k: v for k, v in enumerate(enc.classes_)}\n",
    "label2idx = {v: k for k, v in idx2label.items()}\n",
    "print(idx2label)\n",
    "print(label2idx)"
   ]
  },
  {
   "cell_type": "code",
   "execution_count": 33,
   "metadata": {},
   "outputs": [
    {
     "data": {
      "text/html": [
       "<div>\n",
       "<style scoped>\n",
       "    .dataframe tbody tr th:only-of-type {\n",
       "        vertical-align: middle;\n",
       "    }\n",
       "\n",
       "    .dataframe tbody tr th {\n",
       "        vertical-align: top;\n",
       "    }\n",
       "\n",
       "    .dataframe thead th {\n",
       "        text-align: right;\n",
       "    }\n",
       "</style>\n",
       "<table border=\"1\" class=\"dataframe\">\n",
       "  <thead>\n",
       "    <tr style=\"text-align: right;\">\n",
       "      <th></th>\n",
       "      <th>message</th>\n",
       "      <th>label</th>\n",
       "    </tr>\n",
       "  </thead>\n",
       "  <tbody>\n",
       "    <tr>\n",
       "      <th>0</th>\n",
       "      <td>เช็คเบี้ยค่ะ</td>\n",
       "      <td>9</td>\n",
       "    </tr>\n",
       "    <tr>\n",
       "      <th>1</th>\n",
       "      <td>เชคเบี้ยค่ะ</td>\n",
       "      <td>9</td>\n",
       "    </tr>\n",
       "  </tbody>\n",
       "</table>\n",
       "</div>"
      ],
      "text/plain": [
       "        message  label\n",
       "0  เช็คเบี้ยค่ะ      9\n",
       "1   เชคเบี้ยค่ะ      9"
      ]
     },
     "execution_count": 33,
     "metadata": {},
     "output_type": "execute_result"
    }
   ],
   "source": [
    "df['label'] = enc.transform(df['label'])\n",
    "df.head(2)"
   ]
  },
  {
   "cell_type": "code",
   "execution_count": 38,
   "metadata": {},
   "outputs": [
    {
     "name": "stdout",
     "output_type": "stream",
     "text": [
      "Data size : (4979, 2)\n"
     ]
    },
    {
     "data": {
      "text/html": [
       "<div>\n",
       "<style scoped>\n",
       "    .dataframe tbody tr th:only-of-type {\n",
       "        vertical-align: middle;\n",
       "    }\n",
       "\n",
       "    .dataframe tbody tr th {\n",
       "        vertical-align: top;\n",
       "    }\n",
       "\n",
       "    .dataframe thead th {\n",
       "        text-align: right;\n",
       "    }\n",
       "</style>\n",
       "<table border=\"1\" class=\"dataframe\">\n",
       "  <thead>\n",
       "    <tr style=\"text-align: right;\">\n",
       "      <th></th>\n",
       "      <th>sent</th>\n",
       "      <th>label</th>\n",
       "    </tr>\n",
       "  </thead>\n",
       "  <tbody>\n",
       "    <tr>\n",
       "      <th>0</th>\n",
       "      <td>เช็คเบี้ย</td>\n",
       "      <td>9</td>\n",
       "    </tr>\n",
       "    <tr>\n",
       "      <th>1</th>\n",
       "      <td>เชคเบี้ย</td>\n",
       "      <td>9</td>\n",
       "    </tr>\n",
       "    <tr>\n",
       "      <th>2</th>\n",
       "      <td>เช็คเบี้ย</td>\n",
       "      <td>9</td>\n",
       "    </tr>\n",
       "    <tr>\n",
       "      <th>3</th>\n",
       "      <td>เช็คเบี้ยป.</td>\n",
       "      <td>9</td>\n",
       "    </tr>\n",
       "    <tr>\n",
       "      <th>4</th>\n",
       "      <td>เช็คเบี้ยต่ออายุ</td>\n",
       "      <td>9</td>\n",
       "    </tr>\n",
       "  </tbody>\n",
       "</table>\n",
       "</div>"
      ],
      "text/plain": [
       "               sent  label\n",
       "0         เช็คเบี้ย      9\n",
       "1          เชคเบี้ย      9\n",
       "2         เช็คเบี้ย      9\n",
       "3       เช็คเบี้ยป.      9\n",
       "4  เช็คเบี้ยต่ออายุ      9"
      ]
     },
     "execution_count": 38,
     "metadata": {},
     "output_type": "execute_result"
    }
   ],
   "source": [
    "# text preprocessing\n",
    "pp_df = data_preprocessing(df, 'message', 'label')\n",
    "pp_df.head()"
   ]
  },
  {
   "cell_type": "code",
   "execution_count": 39,
   "metadata": {},
   "outputs": [
    {
     "data": {
      "text/plain": [
       "label\n",
       "9    1226\n",
       "2    1075\n",
       "3     670\n",
       "0     525\n",
       "5     525\n",
       "4     301\n",
       "7     276\n",
       "6     252\n",
       "8      83\n",
       "1      46\n",
       "Name: count, dtype: int64"
      ]
     },
     "execution_count": 39,
     "metadata": {},
     "output_type": "execute_result"
    }
   ],
   "source": [
    "pp_df.label.value_counts()"
   ]
  },
  {
   "cell_type": "code",
   "execution_count": 40,
   "metadata": {},
   "outputs": [
    {
     "data": {
      "text/plain": [
       "label\n",
       "0    800\n",
       "1    800\n",
       "2    800\n",
       "3    800\n",
       "4    800\n",
       "5    800\n",
       "6    800\n",
       "7    800\n",
       "8    800\n",
       "9    800\n",
       "Name: count, dtype: int64"
      ]
     },
     "execution_count": 40,
     "metadata": {},
     "output_type": "execute_result"
    }
   ],
   "source": [
    "pp_df = pd.concat([pp_df[pp_df['label']==0].sample(n=800, replace=True),\n",
    "                   pp_df[pp_df['label']==1].sample(n=800, replace=True),\n",
    "                   pp_df[pp_df['label']==2].sample(n=800, replace=True),\n",
    "                   pp_df[pp_df['label']==3].sample(n=800, replace=True),\n",
    "                   pp_df[pp_df['label']==4].sample(n=800, replace=True),\n",
    "                   pp_df[pp_df['label']==5].sample(n=800, replace=True),\n",
    "                   pp_df[pp_df['label']==6].sample(n=800, replace=True),\n",
    "                   pp_df[pp_df['label']==7].sample(n=800, replace=True),\n",
    "                   pp_df[pp_df['label']==8].sample(n=800, replace=True),\n",
    "                   pp_df[pp_df['label']==9].sample(n=800, replace=True)], axis=0)\n",
    "\n",
    "pp_df.label.value_counts()"
   ]
  },
  {
   "cell_type": "code",
   "execution_count": 41,
   "metadata": {},
   "outputs": [
    {
     "name": "stdout",
     "output_type": "stream",
     "text": [
      "(6400, 2) (1600, 2)\n"
     ]
    }
   ],
   "source": [
    "# split to train valid test set\n",
    "train_data, test_data = train_test_split(pp_df, test_size=0.2, random_state=9, stratify=pp_df['label'])\n",
    "# test_data, valid_data = train_test_split(test_data, test_size=0.5, random_state=31, stratify=test_data['label'])\n",
    "print(train_data.shape, test_data.shape)"
   ]
  },
  {
   "cell_type": "code",
   "execution_count": 56,
   "metadata": {},
   "outputs": [],
   "source": [
    "# convert to huggingface dataset\n",
    "hg_train_data = Dataset.from_pandas(train_data)\n",
    "# hg_valid_data = Dataset.from_pandas(valid_data)\n",
    "hg_test_data = Dataset.from_pandas(test_data)"
   ]
  },
  {
   "cell_type": "markdown",
   "metadata": {},
   "source": [
    "# Load Pre-Trained Model"
   ]
  },
  {
   "cell_type": "code",
   "execution_count": 57,
   "metadata": {},
   "outputs": [
    {
     "name": "stderr",
     "output_type": "stream",
     "text": [
      "Some weights of CamembertForSequenceClassification were not initialized from the model checkpoint at airesearch/wangchanberta-base-att-spm-uncased and are newly initialized: ['classifier.dense.bias', 'classifier.dense.weight', 'classifier.out_proj.bias', 'classifier.out_proj.weight']\n",
      "You should probably TRAIN this model on a down-stream task to be able to use it for predictions and inference.\n"
     ]
    }
   ],
   "source": [
    "tokenizer = AutoTokenizer.from_pretrained(\"poom-sci/WangchanBERTa-finetuned-sentiment\", model_max_length=128) # set max length\n",
    "model = AutoModelForSequenceClassification.from_pretrained(\"airesearch/wangchanberta-base-att-spm-uncased\", num_labels=10) # set num class"
   ]
  },
  {
   "cell_type": "code",
   "execution_count": 58,
   "metadata": {},
   "outputs": [],
   "source": [
    "# # set label name\n",
    "model.config.id2label = idx2label\n",
    "model.config.label2id = label2idx\n",
    "# model.config"
   ]
  },
  {
   "cell_type": "code",
   "execution_count": 59,
   "metadata": {},
   "outputs": [],
   "source": [
    "# Funtion to tokenize data\n",
    "def tokenize_dataset(data):\n",
    "    return tokenizer(data[\"sent\"],\n",
    "            max_length=128, # set max length\n",
    "            truncation=True,\n",
    "            padding=\"max_length\" )"
   ]
  },
  {
   "cell_type": "code",
   "execution_count": 60,
   "metadata": {},
   "outputs": [
    {
     "data": {
      "application/vnd.jupyter.widget-view+json": {
       "model_id": "07107d65a9ec48afa00b807809d41f32",
       "version_major": 2,
       "version_minor": 0
      },
      "text/plain": [
       "Map:   0%|          | 0/3983 [00:00<?, ? examples/s]"
      ]
     },
     "metadata": {},
     "output_type": "display_data"
    },
    {
     "data": {
      "application/vnd.jupyter.widget-view+json": {
       "model_id": "fbb893ed6af94130aa89abe4d86a4b7b",
       "version_major": 2,
       "version_minor": 0
      },
      "text/plain": [
       "Map:   0%|          | 0/996 [00:00<?, ? examples/s]"
      ]
     },
     "metadata": {},
     "output_type": "display_data"
    }
   ],
   "source": [
    "# Tokenize the dataset\n",
    "dataset_train = hg_train_data.map(tokenize_dataset)\n",
    "dataset_test = hg_test_data.map(tokenize_dataset)\n",
    "# dataset_valid = hg_valid_data.map(tokenize_dataset)"
   ]
  },
  {
   "cell_type": "markdown",
   "metadata": {},
   "source": [
    "# Training"
   ]
  },
  {
   "cell_type": "code",
   "execution_count": 61,
   "metadata": {},
   "outputs": [
    {
     "data": {
      "text/plain": [
       "Embedding(25004, 768)"
      ]
     },
     "execution_count": 61,
     "metadata": {},
     "output_type": "execute_result"
    }
   ],
   "source": [
    "# set embedding (if change)\n",
    "model.resize_token_embeddings(len(tokenizer))"
   ]
  },
  {
   "cell_type": "code",
   "execution_count": 67,
   "metadata": {},
   "outputs": [],
   "source": [
    "# Set up training arguments\n",
    "NUM_STEP = 500 # 1000\n",
    "BATCH_SIZE = 8\n",
    "EPOCH = 30 # 20\n",
    "\n",
    "training_args = TrainingArguments(\n",
    "    output_dir=\"./checkpoint2\",\n",
    "    save_total_limit=5,\n",
    "    overwrite_output_dir=True, \n",
    "    logging_dir='./logs2',\n",
    "    logging_strategy='epoch',\n",
    "    logging_steps=NUM_STEP,\n",
    "    num_train_epochs=EPOCH,\n",
    "    fp16=True,\n",
    "    per_device_train_batch_size=BATCH_SIZE,\n",
    "    per_device_eval_batch_size=BATCH_SIZE,\n",
    "    learning_rate=1e-5, # 5e-5\n",
    "    # weight_decay=0.01, # use if larg model size\n",
    "    save_strategy= 'epoch',\n",
    "    save_steps=NUM_STEP,\n",
    "    evaluation_strategy='epoch',\n",
    "    eval_steps=NUM_STEP,\n",
    "    load_best_model_at_end=True\n",
    "    )"
   ]
  },
  {
   "cell_type": "code",
   "execution_count": 68,
   "metadata": {},
   "outputs": [],
   "source": [
    "# define compute metrics\n",
    "def compute_metrics(eval_pred):\n",
    "    metric = load_metric(\"accuracy\")\n",
    "    logits, labels = eval_pred\n",
    "    predictions = logits.argmax(axis=-1)\n",
    "    return metric.compute(predictions=predictions, references=labels)"
   ]
  },
  {
   "cell_type": "code",
   "execution_count": 69,
   "metadata": {},
   "outputs": [],
   "source": [
    "device = torch.device(\"cuda\" if torch.cuda.is_available() else \"cpu\")\n",
    "model = model.to(device)"
   ]
  },
  {
   "cell_type": "code",
   "execution_count": 70,
   "metadata": {},
   "outputs": [],
   "source": [
    "# setup trainer\n",
    "trainer = Trainer(\n",
    "    model=model,\n",
    "    args=training_args,\n",
    "    train_dataset=dataset_train,\n",
    "    eval_dataset=dataset_test,\n",
    "    compute_metrics=compute_metrics,\n",
    "    callbacks=[EarlyStoppingCallback(early_stopping_patience=10)])"
   ]
  },
  {
   "cell_type": "code",
   "execution_count": 18,
   "metadata": {
    "scrolled": true
   },
   "outputs": [
    {
     "data": {
      "text/html": [
       "\n",
       "    <div>\n",
       "      \n",
       "      <progress value='7480' max='7480' style='width:300px; height:20px; vertical-align: middle;'></progress>\n",
       "      [7480/7480 15:26, Epoch 20/20]\n",
       "    </div>\n",
       "    <table border=\"1\" class=\"dataframe\">\n",
       "  <thead>\n",
       " <tr style=\"text-align: left;\">\n",
       "      <th>Epoch</th>\n",
       "      <th>Training Loss</th>\n",
       "      <th>Validation Loss</th>\n",
       "      <th>Accuracy</th>\n",
       "    </tr>\n",
       "  </thead>\n",
       "  <tbody>\n",
       "    <tr>\n",
       "      <td>1</td>\n",
       "      <td>2.038700</td>\n",
       "      <td>1.947074</td>\n",
       "      <td>0.299699</td>\n",
       "    </tr>\n",
       "    <tr>\n",
       "      <td>2</td>\n",
       "      <td>1.825400</td>\n",
       "      <td>1.822419</td>\n",
       "      <td>0.337851</td>\n",
       "    </tr>\n",
       "    <tr>\n",
       "      <td>3</td>\n",
       "      <td>1.706200</td>\n",
       "      <td>1.709939</td>\n",
       "      <td>0.389558</td>\n",
       "    </tr>\n",
       "    <tr>\n",
       "      <td>4</td>\n",
       "      <td>1.462900</td>\n",
       "      <td>1.852316</td>\n",
       "      <td>0.352410</td>\n",
       "    </tr>\n",
       "    <tr>\n",
       "      <td>5</td>\n",
       "      <td>1.437900</td>\n",
       "      <td>1.744033</td>\n",
       "      <td>0.443273</td>\n",
       "    </tr>\n",
       "    <tr>\n",
       "      <td>6</td>\n",
       "      <td>1.268500</td>\n",
       "      <td>1.645916</td>\n",
       "      <td>0.468373</td>\n",
       "    </tr>\n",
       "    <tr>\n",
       "      <td>7</td>\n",
       "      <td>1.189800</td>\n",
       "      <td>1.584506</td>\n",
       "      <td>0.512048</td>\n",
       "    </tr>\n",
       "    <tr>\n",
       "      <td>8</td>\n",
       "      <td>1.166600</td>\n",
       "      <td>1.565495</td>\n",
       "      <td>0.477912</td>\n",
       "    </tr>\n",
       "    <tr>\n",
       "      <td>9</td>\n",
       "      <td>1.059200</td>\n",
       "      <td>1.695978</td>\n",
       "      <td>0.443273</td>\n",
       "    </tr>\n",
       "    <tr>\n",
       "      <td>10</td>\n",
       "      <td>1.001700</td>\n",
       "      <td>1.660202</td>\n",
       "      <td>0.469880</td>\n",
       "    </tr>\n",
       "    <tr>\n",
       "      <td>11</td>\n",
       "      <td>0.955100</td>\n",
       "      <td>1.702104</td>\n",
       "      <td>0.441265</td>\n",
       "    </tr>\n",
       "    <tr>\n",
       "      <td>12</td>\n",
       "      <td>0.938800</td>\n",
       "      <td>1.602280</td>\n",
       "      <td>0.509538</td>\n",
       "    </tr>\n",
       "    <tr>\n",
       "      <td>13</td>\n",
       "      <td>0.827400</td>\n",
       "      <td>1.545605</td>\n",
       "      <td>0.546687</td>\n",
       "    </tr>\n",
       "    <tr>\n",
       "      <td>14</td>\n",
       "      <td>0.813000</td>\n",
       "      <td>1.653470</td>\n",
       "      <td>0.530622</td>\n",
       "    </tr>\n",
       "    <tr>\n",
       "      <td>15</td>\n",
       "      <td>0.752300</td>\n",
       "      <td>1.706755</td>\n",
       "      <td>0.500502</td>\n",
       "    </tr>\n",
       "    <tr>\n",
       "      <td>16</td>\n",
       "      <td>0.761600</td>\n",
       "      <td>1.749317</td>\n",
       "      <td>0.469880</td>\n",
       "    </tr>\n",
       "    <tr>\n",
       "      <td>17</td>\n",
       "      <td>0.706400</td>\n",
       "      <td>1.680811</td>\n",
       "      <td>0.500502</td>\n",
       "    </tr>\n",
       "    <tr>\n",
       "      <td>18</td>\n",
       "      <td>0.683500</td>\n",
       "      <td>1.704390</td>\n",
       "      <td>0.493474</td>\n",
       "    </tr>\n",
       "    <tr>\n",
       "      <td>19</td>\n",
       "      <td>0.660200</td>\n",
       "      <td>1.718061</td>\n",
       "      <td>0.502510</td>\n",
       "    </tr>\n",
       "    <tr>\n",
       "      <td>20</td>\n",
       "      <td>0.636300</td>\n",
       "      <td>1.714872</td>\n",
       "      <td>0.509036</td>\n",
       "    </tr>\n",
       "  </tbody>\n",
       "</table><p>"
      ],
      "text/plain": [
       "<IPython.core.display.HTML object>"
      ]
     },
     "metadata": {},
     "output_type": "display_data"
    },
    {
     "data": {
      "application/vnd.jupyter.widget-view+json": {
       "model_id": "9503391595194da7956eee0a99175281",
       "version_major": 2,
       "version_minor": 0
      },
      "text/plain": [
       "Downloading builder script:   0%|          | 0.00/1.65k [00:00<?, ?B/s]"
      ]
     },
     "metadata": {},
     "output_type": "display_data"
    },
    {
     "data": {
      "text/plain": [
       "TrainOutput(global_step=7480, training_loss=1.094575359732072, metrics={'train_runtime': 927.3272, 'train_samples_per_second': 64.422, 'train_steps_per_second': 8.066, 'total_flos': 3929845867530240.0, 'train_loss': 1.094575359732072, 'epoch': 20.0})"
      ]
     },
     "execution_count": 18,
     "metadata": {},
     "output_type": "execute_result"
    }
   ],
   "source": [
    "# train model ... lr = 2e-5\n",
    "trainer.train()"
   ]
  },
  {
   "cell_type": "code",
   "execution_count": 27,
   "metadata": {
    "scrolled": true
   },
   "outputs": [
    {
     "data": {
      "text/html": [
       "\n",
       "    <div>\n",
       "      \n",
       "      <progress value='9960' max='9960' style='width:300px; height:20px; vertical-align: middle;'></progress>\n",
       "      [9960/9960 17:13, Epoch 20/20]\n",
       "    </div>\n",
       "    <table border=\"1\" class=\"dataframe\">\n",
       "  <thead>\n",
       " <tr style=\"text-align: left;\">\n",
       "      <th>Epoch</th>\n",
       "      <th>Training Loss</th>\n",
       "      <th>Validation Loss</th>\n",
       "      <th>Accuracy</th>\n",
       "    </tr>\n",
       "  </thead>\n",
       "  <tbody>\n",
       "    <tr>\n",
       "      <td>1</td>\n",
       "      <td>1.168900</td>\n",
       "      <td>1.856793</td>\n",
       "      <td>0.353414</td>\n",
       "    </tr>\n",
       "    <tr>\n",
       "      <td>2</td>\n",
       "      <td>1.175100</td>\n",
       "      <td>1.427935</td>\n",
       "      <td>0.502008</td>\n",
       "    </tr>\n",
       "    <tr>\n",
       "      <td>3</td>\n",
       "      <td>1.024300</td>\n",
       "      <td>1.419886</td>\n",
       "      <td>0.522088</td>\n",
       "    </tr>\n",
       "    <tr>\n",
       "      <td>4</td>\n",
       "      <td>0.873000</td>\n",
       "      <td>1.228252</td>\n",
       "      <td>0.640562</td>\n",
       "    </tr>\n",
       "    <tr>\n",
       "      <td>5</td>\n",
       "      <td>0.809900</td>\n",
       "      <td>1.258863</td>\n",
       "      <td>0.622490</td>\n",
       "    </tr>\n",
       "    <tr>\n",
       "      <td>6</td>\n",
       "      <td>0.750400</td>\n",
       "      <td>1.350661</td>\n",
       "      <td>0.626506</td>\n",
       "    </tr>\n",
       "    <tr>\n",
       "      <td>7</td>\n",
       "      <td>0.658600</td>\n",
       "      <td>1.272700</td>\n",
       "      <td>0.676707</td>\n",
       "    </tr>\n",
       "    <tr>\n",
       "      <td>8</td>\n",
       "      <td>0.554300</td>\n",
       "      <td>1.336737</td>\n",
       "      <td>0.656627</td>\n",
       "    </tr>\n",
       "    <tr>\n",
       "      <td>9</td>\n",
       "      <td>0.500800</td>\n",
       "      <td>1.438612</td>\n",
       "      <td>0.644578</td>\n",
       "    </tr>\n",
       "    <tr>\n",
       "      <td>10</td>\n",
       "      <td>0.420700</td>\n",
       "      <td>1.551466</td>\n",
       "      <td>0.639558</td>\n",
       "    </tr>\n",
       "    <tr>\n",
       "      <td>11</td>\n",
       "      <td>0.388200</td>\n",
       "      <td>1.613054</td>\n",
       "      <td>0.658635</td>\n",
       "    </tr>\n",
       "    <tr>\n",
       "      <td>12</td>\n",
       "      <td>0.361400</td>\n",
       "      <td>1.702907</td>\n",
       "      <td>0.652610</td>\n",
       "    </tr>\n",
       "    <tr>\n",
       "      <td>13</td>\n",
       "      <td>0.327800</td>\n",
       "      <td>1.856396</td>\n",
       "      <td>0.639558</td>\n",
       "    </tr>\n",
       "    <tr>\n",
       "      <td>14</td>\n",
       "      <td>0.298700</td>\n",
       "      <td>1.921508</td>\n",
       "      <td>0.650602</td>\n",
       "    </tr>\n",
       "    <tr>\n",
       "      <td>15</td>\n",
       "      <td>0.247400</td>\n",
       "      <td>1.927846</td>\n",
       "      <td>0.662651</td>\n",
       "    </tr>\n",
       "    <tr>\n",
       "      <td>16</td>\n",
       "      <td>0.244700</td>\n",
       "      <td>2.051416</td>\n",
       "      <td>0.644578</td>\n",
       "    </tr>\n",
       "    <tr>\n",
       "      <td>17</td>\n",
       "      <td>0.212000</td>\n",
       "      <td>2.077984</td>\n",
       "      <td>0.672691</td>\n",
       "    </tr>\n",
       "    <tr>\n",
       "      <td>18</td>\n",
       "      <td>0.207200</td>\n",
       "      <td>2.133597</td>\n",
       "      <td>0.669679</td>\n",
       "    </tr>\n",
       "    <tr>\n",
       "      <td>19</td>\n",
       "      <td>0.195200</td>\n",
       "      <td>2.156295</td>\n",
       "      <td>0.669679</td>\n",
       "    </tr>\n",
       "    <tr>\n",
       "      <td>20</td>\n",
       "      <td>0.173700</td>\n",
       "      <td>2.153543</td>\n",
       "      <td>0.669679</td>\n",
       "    </tr>\n",
       "  </tbody>\n",
       "</table><p>"
      ],
      "text/plain": [
       "<IPython.core.display.HTML object>"
      ]
     },
     "metadata": {},
     "output_type": "display_data"
    },
    {
     "data": {
      "text/plain": [
       "TrainOutput(global_step=9960, training_loss=0.529628101793159, metrics={'train_runtime': 1033.2553, 'train_samples_per_second': 77.096, 'train_steps_per_second': 9.639, 'total_flos': 5240233039964160.0, 'train_loss': 0.529628101793159, 'epoch': 20.0})"
      ]
     },
     "execution_count": 27,
     "metadata": {},
     "output_type": "execute_result"
    }
   ],
   "source": [
    "# train model ... lr = 3e-5\n",
    "trainer.train()"
   ]
  },
  {
   "cell_type": "code",
   "execution_count": 74,
   "metadata": {},
   "outputs": [
    {
     "data": {
      "text/html": [
       "\n",
       "    <div>\n",
       "      \n",
       "      <progress value='7470' max='14940' style='width:300px; height:20px; vertical-align: middle;'></progress>\n",
       "      [ 7470/14940 13:46 < 13:46, 9.04 it/s, Epoch 15/30]\n",
       "    </div>\n",
       "    <table border=\"1\" class=\"dataframe\">\n",
       "  <thead>\n",
       " <tr style=\"text-align: left;\">\n",
       "      <th>Epoch</th>\n",
       "      <th>Training Loss</th>\n",
       "      <th>Validation Loss</th>\n",
       "      <th>Accuracy</th>\n",
       "    </tr>\n",
       "  </thead>\n",
       "  <tbody>\n",
       "    <tr>\n",
       "      <td>1</td>\n",
       "      <td>1.106500</td>\n",
       "      <td>1.356137</td>\n",
       "      <td>0.594378</td>\n",
       "    </tr>\n",
       "    <tr>\n",
       "      <td>2</td>\n",
       "      <td>1.055100</td>\n",
       "      <td>1.354072</td>\n",
       "      <td>0.604418</td>\n",
       "    </tr>\n",
       "    <tr>\n",
       "      <td>3</td>\n",
       "      <td>1.057600</td>\n",
       "      <td>1.366277</td>\n",
       "      <td>0.586345</td>\n",
       "    </tr>\n",
       "    <tr>\n",
       "      <td>4</td>\n",
       "      <td>0.968300</td>\n",
       "      <td>1.326730</td>\n",
       "      <td>0.612450</td>\n",
       "    </tr>\n",
       "    <tr>\n",
       "      <td>5</td>\n",
       "      <td>0.931700</td>\n",
       "      <td>1.313122</td>\n",
       "      <td>0.613454</td>\n",
       "    </tr>\n",
       "    <tr>\n",
       "      <td>6</td>\n",
       "      <td>0.877700</td>\n",
       "      <td>1.391380</td>\n",
       "      <td>0.606426</td>\n",
       "    </tr>\n",
       "    <tr>\n",
       "      <td>7</td>\n",
       "      <td>0.868200</td>\n",
       "      <td>1.394851</td>\n",
       "      <td>0.590361</td>\n",
       "    </tr>\n",
       "    <tr>\n",
       "      <td>8</td>\n",
       "      <td>0.812000</td>\n",
       "      <td>1.412683</td>\n",
       "      <td>0.602410</td>\n",
       "    </tr>\n",
       "    <tr>\n",
       "      <td>9</td>\n",
       "      <td>0.816000</td>\n",
       "      <td>1.451638</td>\n",
       "      <td>0.585341</td>\n",
       "    </tr>\n",
       "    <tr>\n",
       "      <td>10</td>\n",
       "      <td>0.797900</td>\n",
       "      <td>1.430578</td>\n",
       "      <td>0.604418</td>\n",
       "    </tr>\n",
       "    <tr>\n",
       "      <td>11</td>\n",
       "      <td>0.775800</td>\n",
       "      <td>1.572095</td>\n",
       "      <td>0.552209</td>\n",
       "    </tr>\n",
       "    <tr>\n",
       "      <td>12</td>\n",
       "      <td>0.727900</td>\n",
       "      <td>1.508260</td>\n",
       "      <td>0.603414</td>\n",
       "    </tr>\n",
       "    <tr>\n",
       "      <td>13</td>\n",
       "      <td>0.681200</td>\n",
       "      <td>1.525093</td>\n",
       "      <td>0.597390</td>\n",
       "    </tr>\n",
       "    <tr>\n",
       "      <td>14</td>\n",
       "      <td>0.676300</td>\n",
       "      <td>1.535145</td>\n",
       "      <td>0.592369</td>\n",
       "    </tr>\n",
       "    <tr>\n",
       "      <td>15</td>\n",
       "      <td>0.652500</td>\n",
       "      <td>1.559462</td>\n",
       "      <td>0.596386</td>\n",
       "    </tr>\n",
       "  </tbody>\n",
       "</table><p>"
      ],
      "text/plain": [
       "<IPython.core.display.HTML object>"
      ]
     },
     "metadata": {},
     "output_type": "display_data"
    },
    {
     "data": {
      "text/plain": [
       "TrainOutput(global_step=7470, training_loss=0.8536515446551832, metrics={'train_runtime': 826.3682, 'train_samples_per_second': 144.597, 'train_steps_per_second': 18.079, 'total_flos': 3930174779973120.0, 'train_loss': 0.8536515446551832, 'epoch': 15.0})"
      ]
     },
     "execution_count": 74,
     "metadata": {},
     "output_type": "execute_result"
    }
   ],
   "source": [
    "# train model ... lr = 1e-5 model.to(device) (new cleaning)\n",
    "trainer.train()"
   ]
  },
  {
   "cell_type": "code",
   "execution_count": 75,
   "metadata": {},
   "outputs": [
    {
     "data": {
      "text/html": [
       "\n",
       "    <div>\n",
       "      \n",
       "      <progress value='125' max='125' style='width:300px; height:20px; vertical-align: middle;'></progress>\n",
       "      [125/125 00:02]\n",
       "    </div>\n",
       "    "
      ],
      "text/plain": [
       "<IPython.core.display.HTML object>"
      ]
     },
     "metadata": {},
     "output_type": "display_data"
    },
    {
     "data": {
      "text/plain": [
       "{'eval_loss': 1.313122034072876,\n",
       " 'eval_accuracy': 0.6134538152610441,\n",
       " 'eval_runtime': 4.2285,\n",
       " 'eval_samples_per_second': 235.543,\n",
       " 'eval_steps_per_second': 29.561,\n",
       " 'epoch': 15.0}"
      ]
     },
     "execution_count": 75,
     "metadata": {},
     "output_type": "execute_result"
    }
   ],
   "source": [
    "# Evaluation\n",
    "trainer.evaluate(dataset_test)"
   ]
  },
  {
   "cell_type": "markdown",
   "metadata": {},
   "source": [
    "# Save Model"
   ]
  },
  {
   "cell_type": "code",
   "execution_count": 76,
   "metadata": {},
   "outputs": [
    {
     "name": "stdout",
     "output_type": "stream",
     "text": [
      "Save completed...\n"
     ]
    }
   ],
   "source": [
    "# Save model\n",
    "tokenizer.save_pretrained('./model2')\n",
    "trainer.save_model('./model2')\n",
    "print(\"Save completed...\")"
   ]
  },
  {
   "cell_type": "markdown",
   "metadata": {},
   "source": [
    "# Load Model"
   ]
  },
  {
   "cell_type": "code",
   "execution_count": null,
   "metadata": {},
   "outputs": [],
   "source": [
    "# # Load model\n",
    "# # tokenizer = AutoTokenizer.from_pretrained('pretrained_WangchanBERTa/model')\n",
    "# # loaded_model = AutoModelForSequenceClassification.from_pretrained('pretrained_WangchanBERTa/model')\n",
    "# pipe = pipeline(\"text-classification\", model=\"pretrained_WangchanBERTa/model\")"
   ]
  },
  {
   "cell_type": "code",
   "execution_count": null,
   "metadata": {},
   "outputs": [],
   "source": []
  },
  {
   "cell_type": "markdown",
   "metadata": {},
   "source": [
    "# Evaluation"
   ]
  },
  {
   "cell_type": "code",
   "execution_count": 30,
   "metadata": {},
   "outputs": [],
   "source": [
    "y_test_predict = trainer.predict(dataset_test)\n",
    "y_test_logits = y_test_predict.predictions\n",
    "y_test_prob = torch.softmax(torch.tensor(y_test_logits), dim=1) # tf.nn.softmax(y_test_logits)\n",
    "y_test_pred_labels = np.argmax(y_test_prob, axis=1)\n",
    "y_test_actual_labels = y_test_predict.label_ids"
   ]
  },
  {
   "cell_type": "code",
   "execution_count": 31,
   "metadata": {},
   "outputs": [
    {
     "data": {
      "application/vnd.jupyter.widget-view+json": {
       "model_id": "097c059a8db04fb398dee1a3ea7f2cae",
       "version_major": 2,
       "version_minor": 0
      },
      "text/plain": [
       "Downloading builder script:   0%|          | 0.00/6.77k [00:00<?, ?B/s]"
      ]
     },
     "metadata": {},
     "output_type": "display_data"
    },
    {
     "data": {
      "text/plain": [
       "{'f1': 0.6414928228685276}"
      ]
     },
     "execution_count": 31,
     "metadata": {},
     "output_type": "execute_result"
    }
   ],
   "source": [
    "# Compute f1 metric\n",
    "metric_f1 = evaluate.load(\"f1\")\n",
    "metric_f1.compute(predictions=y_test_pred_labels, references=y_test_actual_labels, average=\"weighted\")"
   ]
  },
  {
   "cell_type": "code",
   "execution_count": 32,
   "metadata": {},
   "outputs": [
    {
     "name": "stdout",
     "output_type": "stream",
     "text": [
      "Accuracy : 0.6406\n"
     ]
    }
   ],
   "source": [
    "acc = accuracy_score(y_test_actual_labels, y_test_pred_labels)\n",
    "print(f\"Accuracy : {acc:.4f}\")"
   ]
  },
  {
   "cell_type": "markdown",
   "metadata": {},
   "source": [
    "# etc"
   ]
  },
  {
   "cell_type": "code",
   "execution_count": null,
   "metadata": {},
   "outputs": [],
   "source": [
    "device = torch.device(\"cuda\" if torch.cuda.is_available() else \"cpu\")"
   ]
  },
  {
   "cell_type": "code",
   "execution_count": null,
   "metadata": {},
   "outputs": [],
   "source": [
    "def to_prediction(prep_text):\n",
    "    inputs = tokenizer(prep_text, padding=True, truncation=True, return_tensors=\"pt\").to(device)\n",
    "    ## Perform inference\n",
    "    with torch.no_grad():\n",
    "        outputs = model(**inputs)\n",
    "    ## Move outputs to CPU if necessary and calculate softmax probabilities\n",
    "    softmax_probs = torch.softmax(outputs.logits, dim=1).cpu().tolist()\n",
    "    ## Extract predicted labels\n",
    "    predicted_labels = torch.argmax(outputs.logits, dim=1).tolist()\n",
    "    # predicted_labels = outputs.logits.argmax(dim=1).cpu().tolist()\n",
    "    results = [(idx2label[label], probs[label]) for label, probs in zip(predicted_labels, softmax_probs)]\n",
    "    return results"
   ]
  },
  {
   "cell_type": "code",
   "execution_count": null,
   "metadata": {},
   "outputs": [],
   "source": []
  },
  {
   "cell_type": "code",
   "execution_count": null,
   "metadata": {},
   "outputs": [],
   "source": []
  }
 ],
 "metadata": {
  "kernelspec": {
   "display_name": "Python 3 (ipykernel)",
   "language": "python",
   "name": "python3"
  },
  "language_info": {
   "codemirror_mode": {
    "name": "ipython",
    "version": 3
   },
   "file_extension": ".py",
   "mimetype": "text/x-python",
   "name": "python",
   "nbconvert_exporter": "python",
   "pygments_lexer": "ipython3",
   "version": "3.8.13"
  }
 },
 "nbformat": 4,
 "nbformat_minor": 4
}
